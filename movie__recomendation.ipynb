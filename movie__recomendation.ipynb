{
  "cells": [
    {
      "cell_type": "code",
      "execution_count": 1,
      "metadata": {
        "id": "dF9doohHI3oi"
      },
      "outputs": [],
      "source": [
        "import pandas as pd\n",
        "import numpy as np\n",
        "import csv"
      ]
    },
    {
      "cell_type": "code",
      "execution_count": 2,
      "metadata": {
        "id": "vM-aNvkNKEVm"
      },
      "outputs": [],
      "source": [
        "movies=pd.read_csv('movie.csv')"
      ]
    },
    {
      "cell_type": "code",
      "execution_count": 30,
      "metadata": {
        "colab": {
          "base_uri": "https://localhost:8080/",
          "height": 774
        },
        "id": "sqWJbSIQKjPh",
        "outputId": "aba12184-310a-417e-fbb0-d7f39d2bc52d"
      },
      "outputs": [
        {
          "data": {
            "text/html": [
              "<div>\n",
              "<style scoped>\n",
              "    .dataframe tbody tr th:only-of-type {\n",
              "        vertical-align: middle;\n",
              "    }\n",
              "\n",
              "    .dataframe tbody tr th {\n",
              "        vertical-align: top;\n",
              "    }\n",
              "\n",
              "    .dataframe thead th {\n",
              "        text-align: right;\n",
              "    }\n",
              "</style>\n",
              "<table border=\"1\" class=\"dataframe\">\n",
              "  <thead>\n",
              "    <tr style=\"text-align: right;\">\n",
              "      <th></th>\n",
              "      <th>budget</th>\n",
              "      <th>genres</th>\n",
              "      <th>homepage</th>\n",
              "      <th>id</th>\n",
              "      <th>keywords</th>\n",
              "      <th>original_language</th>\n",
              "      <th>original_title</th>\n",
              "      <th>overview</th>\n",
              "      <th>popularity</th>\n",
              "      <th>production_companies</th>\n",
              "      <th>...</th>\n",
              "      <th>runtime</th>\n",
              "      <th>spoken_languages</th>\n",
              "      <th>status</th>\n",
              "      <th>tagline</th>\n",
              "      <th>title</th>\n",
              "      <th>vote_average</th>\n",
              "      <th>vote_count</th>\n",
              "      <th>movie_id</th>\n",
              "      <th>cast</th>\n",
              "      <th>crew</th>\n",
              "    </tr>\n",
              "  </thead>\n",
              "  <tbody>\n",
              "    <tr>\n",
              "      <th>0</th>\n",
              "      <td>237000000</td>\n",
              "      <td>[Action, Adventure, Fantasy, Science Fiction]</td>\n",
              "      <td>http://www.avatarmovie.com/</td>\n",
              "      <td>19995</td>\n",
              "      <td>[culture clash, future, space war, space colon...</td>\n",
              "      <td>en</td>\n",
              "      <td>Avatar</td>\n",
              "      <td>In the 22nd century, a paraplegic Marine is di...</td>\n",
              "      <td>150.437577</td>\n",
              "      <td>[{\"name\": \"Ingenious Film Partners\", \"id\": 289...</td>\n",
              "      <td>...</td>\n",
              "      <td>162.0</td>\n",
              "      <td>[{\"iso_639_1\": \"en\", \"name\": \"English\"}, {\"iso...</td>\n",
              "      <td>Released</td>\n",
              "      <td>Enter the World of Pandora.</td>\n",
              "      <td>Avatar</td>\n",
              "      <td>7.2</td>\n",
              "      <td>11800</td>\n",
              "      <td>19995</td>\n",
              "      <td>[Sam Worthington, Zoe Saldana, Sigourney Weave...</td>\n",
              "      <td>[James Cameron]</td>\n",
              "    </tr>\n",
              "    <tr>\n",
              "      <th>1</th>\n",
              "      <td>300000000</td>\n",
              "      <td>[Adventure, Fantasy, Action]</td>\n",
              "      <td>http://disney.go.com/disneypictures/pirates/</td>\n",
              "      <td>285</td>\n",
              "      <td>[ocean, drug abuse, exotic island, east india ...</td>\n",
              "      <td>en</td>\n",
              "      <td>Pirates of the Caribbean: At World's End</td>\n",
              "      <td>Captain Barbossa, long believed to be dead, ha...</td>\n",
              "      <td>139.082615</td>\n",
              "      <td>[{\"name\": \"Walt Disney Pictures\", \"id\": 2}, {\"...</td>\n",
              "      <td>...</td>\n",
              "      <td>169.0</td>\n",
              "      <td>[{\"iso_639_1\": \"en\", \"name\": \"English\"}]</td>\n",
              "      <td>Released</td>\n",
              "      <td>At the end of the world, the adventure begins.</td>\n",
              "      <td>Pirates of the Caribbean: At World's End</td>\n",
              "      <td>6.9</td>\n",
              "      <td>4500</td>\n",
              "      <td>285</td>\n",
              "      <td>[Johnny Depp, Orlando Bloom, Keira Knightley, ...</td>\n",
              "      <td>[Gore Verbinski]</td>\n",
              "    </tr>\n",
              "    <tr>\n",
              "      <th>2</th>\n",
              "      <td>245000000</td>\n",
              "      <td>[Action, Adventure, Crime]</td>\n",
              "      <td>http://www.sonypictures.com/movies/spectre/</td>\n",
              "      <td>206647</td>\n",
              "      <td>[spy, based on novel, secret agent, sequel, mi...</td>\n",
              "      <td>en</td>\n",
              "      <td>Spectre</td>\n",
              "      <td>A cryptic message from Bond’s past sends him o...</td>\n",
              "      <td>107.376788</td>\n",
              "      <td>[{\"name\": \"Columbia Pictures\", \"id\": 5}, {\"nam...</td>\n",
              "      <td>...</td>\n",
              "      <td>148.0</td>\n",
              "      <td>[{\"iso_639_1\": \"fr\", \"name\": \"Fran\\u00e7ais\"},...</td>\n",
              "      <td>Released</td>\n",
              "      <td>A Plan No One Escapes</td>\n",
              "      <td>Spectre</td>\n",
              "      <td>6.3</td>\n",
              "      <td>4466</td>\n",
              "      <td>206647</td>\n",
              "      <td>[Daniel Craig, Christoph Waltz, Léa Seydoux, R...</td>\n",
              "      <td>[Sam Mendes]</td>\n",
              "    </tr>\n",
              "    <tr>\n",
              "      <th>3</th>\n",
              "      <td>250000000</td>\n",
              "      <td>[Action, Crime, Drama, Thriller]</td>\n",
              "      <td>http://www.thedarkknightrises.com/</td>\n",
              "      <td>49026</td>\n",
              "      <td>[dc comics, crime fighter, terrorist, secret i...</td>\n",
              "      <td>en</td>\n",
              "      <td>The Dark Knight Rises</td>\n",
              "      <td>Following the death of District Attorney Harve...</td>\n",
              "      <td>112.312950</td>\n",
              "      <td>[{\"name\": \"Legendary Pictures\", \"id\": 923}, {\"...</td>\n",
              "      <td>...</td>\n",
              "      <td>165.0</td>\n",
              "      <td>[{\"iso_639_1\": \"en\", \"name\": \"English\"}]</td>\n",
              "      <td>Released</td>\n",
              "      <td>The Legend Ends</td>\n",
              "      <td>The Dark Knight Rises</td>\n",
              "      <td>7.6</td>\n",
              "      <td>9106</td>\n",
              "      <td>49026</td>\n",
              "      <td>[Christian Bale, Michael Caine, Gary Oldman, A...</td>\n",
              "      <td>[Christopher Nolan]</td>\n",
              "    </tr>\n",
              "    <tr>\n",
              "      <th>4</th>\n",
              "      <td>260000000</td>\n",
              "      <td>[Action, Adventure, Science Fiction]</td>\n",
              "      <td>http://movies.disney.com/john-carter</td>\n",
              "      <td>49529</td>\n",
              "      <td>[based on novel, mars, medallion, space travel...</td>\n",
              "      <td>en</td>\n",
              "      <td>John Carter</td>\n",
              "      <td>John Carter is a war-weary, former military ca...</td>\n",
              "      <td>43.926995</td>\n",
              "      <td>[{\"name\": \"Walt Disney Pictures\", \"id\": 2}]</td>\n",
              "      <td>...</td>\n",
              "      <td>132.0</td>\n",
              "      <td>[{\"iso_639_1\": \"en\", \"name\": \"English\"}]</td>\n",
              "      <td>Released</td>\n",
              "      <td>Lost in our world, found in another.</td>\n",
              "      <td>John Carter</td>\n",
              "      <td>6.1</td>\n",
              "      <td>2124</td>\n",
              "      <td>49529</td>\n",
              "      <td>[Taylor Kitsch, Lynn Collins, Samantha Morton,...</td>\n",
              "      <td>[Andrew Stanton]</td>\n",
              "    </tr>\n",
              "  </tbody>\n",
              "</table>\n",
              "<p>5 rows × 23 columns</p>\n",
              "</div>"
            ],
            "text/plain": [
              "      budget                                         genres  \\\n",
              "0  237000000  [Action, Adventure, Fantasy, Science Fiction]   \n",
              "1  300000000                   [Adventure, Fantasy, Action]   \n",
              "2  245000000                     [Action, Adventure, Crime]   \n",
              "3  250000000               [Action, Crime, Drama, Thriller]   \n",
              "4  260000000           [Action, Adventure, Science Fiction]   \n",
              "\n",
              "                                       homepage      id  \\\n",
              "0                   http://www.avatarmovie.com/   19995   \n",
              "1  http://disney.go.com/disneypictures/pirates/     285   \n",
              "2   http://www.sonypictures.com/movies/spectre/  206647   \n",
              "3            http://www.thedarkknightrises.com/   49026   \n",
              "4          http://movies.disney.com/john-carter   49529   \n",
              "\n",
              "                                            keywords original_language  \\\n",
              "0  [culture clash, future, space war, space colon...                en   \n",
              "1  [ocean, drug abuse, exotic island, east india ...                en   \n",
              "2  [spy, based on novel, secret agent, sequel, mi...                en   \n",
              "3  [dc comics, crime fighter, terrorist, secret i...                en   \n",
              "4  [based on novel, mars, medallion, space travel...                en   \n",
              "\n",
              "                             original_title  \\\n",
              "0                                    Avatar   \n",
              "1  Pirates of the Caribbean: At World's End   \n",
              "2                                   Spectre   \n",
              "3                     The Dark Knight Rises   \n",
              "4                               John Carter   \n",
              "\n",
              "                                            overview  popularity  \\\n",
              "0  In the 22nd century, a paraplegic Marine is di...  150.437577   \n",
              "1  Captain Barbossa, long believed to be dead, ha...  139.082615   \n",
              "2  A cryptic message from Bond’s past sends him o...  107.376788   \n",
              "3  Following the death of District Attorney Harve...  112.312950   \n",
              "4  John Carter is a war-weary, former military ca...   43.926995   \n",
              "\n",
              "                                production_companies  ... runtime  \\\n",
              "0  [{\"name\": \"Ingenious Film Partners\", \"id\": 289...  ...   162.0   \n",
              "1  [{\"name\": \"Walt Disney Pictures\", \"id\": 2}, {\"...  ...   169.0   \n",
              "2  [{\"name\": \"Columbia Pictures\", \"id\": 5}, {\"nam...  ...   148.0   \n",
              "3  [{\"name\": \"Legendary Pictures\", \"id\": 923}, {\"...  ...   165.0   \n",
              "4        [{\"name\": \"Walt Disney Pictures\", \"id\": 2}]  ...   132.0   \n",
              "\n",
              "                                    spoken_languages    status  \\\n",
              "0  [{\"iso_639_1\": \"en\", \"name\": \"English\"}, {\"iso...  Released   \n",
              "1           [{\"iso_639_1\": \"en\", \"name\": \"English\"}]  Released   \n",
              "2  [{\"iso_639_1\": \"fr\", \"name\": \"Fran\\u00e7ais\"},...  Released   \n",
              "3           [{\"iso_639_1\": \"en\", \"name\": \"English\"}]  Released   \n",
              "4           [{\"iso_639_1\": \"en\", \"name\": \"English\"}]  Released   \n",
              "\n",
              "                                          tagline  \\\n",
              "0                     Enter the World of Pandora.   \n",
              "1  At the end of the world, the adventure begins.   \n",
              "2                           A Plan No One Escapes   \n",
              "3                                 The Legend Ends   \n",
              "4            Lost in our world, found in another.   \n",
              "\n",
              "                                      title vote_average vote_count movie_id  \\\n",
              "0                                    Avatar          7.2      11800    19995   \n",
              "1  Pirates of the Caribbean: At World's End          6.9       4500      285   \n",
              "2                                   Spectre          6.3       4466   206647   \n",
              "3                     The Dark Knight Rises          7.6       9106    49026   \n",
              "4                               John Carter          6.1       2124    49529   \n",
              "\n",
              "                                                cast                 crew  \n",
              "0  [Sam Worthington, Zoe Saldana, Sigourney Weave...      [James Cameron]  \n",
              "1  [Johnny Depp, Orlando Bloom, Keira Knightley, ...     [Gore Verbinski]  \n",
              "2  [Daniel Craig, Christoph Waltz, Léa Seydoux, R...         [Sam Mendes]  \n",
              "3  [Christian Bale, Michael Caine, Gary Oldman, A...  [Christopher Nolan]  \n",
              "4  [Taylor Kitsch, Lynn Collins, Samantha Morton,...     [Andrew Stanton]  \n",
              "\n",
              "[5 rows x 23 columns]"
            ]
          },
          "execution_count": 30,
          "metadata": {},
          "output_type": "execute_result"
        }
      ],
      "source": [
        "movies.head()"
      ]
    },
    {
      "cell_type": "code",
      "execution_count": 29,
      "metadata": {
        "colab": {
          "base_uri": "https://localhost:8080/",
          "height": 140
        },
        "id": "q49Ve5p-Kylm",
        "outputId": "c3996dae-38dd-4efc-ea2a-eb3ab4fa0edb"
      },
      "outputs": [
        {
          "data": {
            "text/plain": [
              "['culture clash',\n",
              " 'future',\n",
              " 'space war',\n",
              " 'space colony',\n",
              " 'society',\n",
              " 'space travel',\n",
              " 'futuristic',\n",
              " 'romance',\n",
              " 'space',\n",
              " 'alien',\n",
              " 'tribe',\n",
              " 'alien planet',\n",
              " 'cgi',\n",
              " 'marine',\n",
              " 'soldier',\n",
              " 'battle',\n",
              " 'love affair',\n",
              " 'anti war',\n",
              " 'power relations',\n",
              " 'mind and soul',\n",
              " '3d']"
            ]
          },
          "execution_count": 29,
          "metadata": {},
          "output_type": "execute_result"
        }
      ],
      "source": [
        "movies[\"keywords\"][0]"
      ]
    },
    {
      "cell_type": "code",
      "execution_count": 28,
      "metadata": {
        "colab": {
          "base_uri": "https://localhost:8080/",
          "height": 35
        },
        "id": "HE03i-S-Li7C",
        "outputId": "bd3b564b-a935-400b-c013-7cb8a85d1cb9"
      },
      "outputs": [
        {
          "data": {
            "text/plain": [
              "'Enter the World of Pandora.'"
            ]
          },
          "execution_count": 28,
          "metadata": {},
          "output_type": "execute_result"
        }
      ],
      "source": [
        "movies[\"tagline\"][0]"
      ]
    },
    {
      "cell_type": "code",
      "execution_count": 27,
      "metadata": {
        "colab": {
          "base_uri": "https://localhost:8080/",
          "height": 53
        },
        "id": "PwSQ6L06PyzR",
        "outputId": "b6615383-fe8c-408b-ebb0-68a28ff4ee01"
      },
      "outputs": [
        {
          "data": {
            "text/plain": [
              "'In the 22nd century, a paraplegic Marine is dispatched to the moon Pandora on a unique mission, but becomes torn between following orders and protecting an alien civilization.'"
            ]
          },
          "execution_count": 27,
          "metadata": {},
          "output_type": "execute_result"
        }
      ],
      "source": [
        "movies[\"overview\"][0]"
      ]
    },
    {
      "cell_type": "code",
      "execution_count": 15,
      "metadata": {
        "id": "mQeKD7ycMUfZ"
      },
      "outputs": [],
      "source": [
        "df2=pd.read_csv('movie_credit.csv')"
      ]
    },
    {
      "cell_type": "code",
      "execution_count": 26,
      "metadata": {
        "colab": {
          "base_uri": "https://localhost:8080/",
          "height": 337
        },
        "id": "m3MKNwj0-ify",
        "outputId": "fe430350-2a99-4af7-c1bc-5854fddc84ac"
      },
      "outputs": [
        {
          "data": {
            "text/html": [
              "<div>\n",
              "<style scoped>\n",
              "    .dataframe tbody tr th:only-of-type {\n",
              "        vertical-align: middle;\n",
              "    }\n",
              "\n",
              "    .dataframe tbody tr th {\n",
              "        vertical-align: top;\n",
              "    }\n",
              "\n",
              "    .dataframe thead th {\n",
              "        text-align: right;\n",
              "    }\n",
              "</style>\n",
              "<table border=\"1\" class=\"dataframe\">\n",
              "  <thead>\n",
              "    <tr style=\"text-align: right;\">\n",
              "      <th></th>\n",
              "      <th>movie_id</th>\n",
              "      <th>title</th>\n",
              "      <th>cast</th>\n",
              "      <th>crew</th>\n",
              "    </tr>\n",
              "  </thead>\n",
              "  <tbody>\n",
              "    <tr>\n",
              "      <th>0</th>\n",
              "      <td>19995</td>\n",
              "      <td>Avatar</td>\n",
              "      <td>[{\"cast_id\": 242, \"character\": \"Jake Sully\", \"...</td>\n",
              "      <td>[{\"credit_id\": \"52fe48009251416c750aca23\", \"de...</td>\n",
              "    </tr>\n",
              "    <tr>\n",
              "      <th>1</th>\n",
              "      <td>285</td>\n",
              "      <td>Pirates of the Caribbean: At World's End</td>\n",
              "      <td>[{\"cast_id\": 4, \"character\": \"Captain Jack Spa...</td>\n",
              "      <td>[{\"credit_id\": \"52fe4232c3a36847f800b579\", \"de...</td>\n",
              "    </tr>\n",
              "    <tr>\n",
              "      <th>2</th>\n",
              "      <td>206647</td>\n",
              "      <td>Spectre</td>\n",
              "      <td>[{\"cast_id\": 1, \"character\": \"James Bond\", \"cr...</td>\n",
              "      <td>[{\"credit_id\": \"54805967c3a36829b5002c41\", \"de...</td>\n",
              "    </tr>\n",
              "    <tr>\n",
              "      <th>3</th>\n",
              "      <td>49026</td>\n",
              "      <td>The Dark Knight Rises</td>\n",
              "      <td>[{\"cast_id\": 2, \"character\": \"Bruce Wayne / Ba...</td>\n",
              "      <td>[{\"credit_id\": \"52fe4781c3a36847f81398c3\", \"de...</td>\n",
              "    </tr>\n",
              "    <tr>\n",
              "      <th>4</th>\n",
              "      <td>49529</td>\n",
              "      <td>John Carter</td>\n",
              "      <td>[{\"cast_id\": 5, \"character\": \"John Carter\", \"c...</td>\n",
              "      <td>[{\"credit_id\": \"52fe479ac3a36847f813eaa3\", \"de...</td>\n",
              "    </tr>\n",
              "  </tbody>\n",
              "</table>\n",
              "</div>"
            ],
            "text/plain": [
              "   movie_id                                     title  \\\n",
              "0     19995                                    Avatar   \n",
              "1       285  Pirates of the Caribbean: At World's End   \n",
              "2    206647                                   Spectre   \n",
              "3     49026                     The Dark Knight Rises   \n",
              "4     49529                               John Carter   \n",
              "\n",
              "                                                cast  \\\n",
              "0  [{\"cast_id\": 242, \"character\": \"Jake Sully\", \"...   \n",
              "1  [{\"cast_id\": 4, \"character\": \"Captain Jack Spa...   \n",
              "2  [{\"cast_id\": 1, \"character\": \"James Bond\", \"cr...   \n",
              "3  [{\"cast_id\": 2, \"character\": \"Bruce Wayne / Ba...   \n",
              "4  [{\"cast_id\": 5, \"character\": \"John Carter\", \"c...   \n",
              "\n",
              "                                                crew  \n",
              "0  [{\"credit_id\": \"52fe48009251416c750aca23\", \"de...  \n",
              "1  [{\"credit_id\": \"52fe4232c3a36847f800b579\", \"de...  \n",
              "2  [{\"credit_id\": \"54805967c3a36829b5002c41\", \"de...  \n",
              "3  [{\"credit_id\": \"52fe4781c3a36847f81398c3\", \"de...  \n",
              "4  [{\"credit_id\": \"52fe479ac3a36847f813eaa3\", \"de...  "
            ]
          },
          "execution_count": 26,
          "metadata": {},
          "output_type": "execute_result"
        }
      ],
      "source": [
        "df2.head()"
      ]
    },
    {
      "cell_type": "code",
      "execution_count": 25,
      "metadata": {
        "colab": {
          "base_uri": "https://localhost:8080/"
        },
        "id": "bcWCWRsO-n92",
        "outputId": "a1bfac3f-08c4-4ca5-de07-f29ad29867d9"
      },
      "outputs": [
        {
          "data": {
            "text/plain": [
              "0       [{\"cast_id\": 242, \"character\": \"Jake Sully\", \"...\n",
              "1       [{\"cast_id\": 4, \"character\": \"Captain Jack Spa...\n",
              "2       [{\"cast_id\": 1, \"character\": \"James Bond\", \"cr...\n",
              "3       [{\"cast_id\": 2, \"character\": \"Bruce Wayne / Ba...\n",
              "4       [{\"cast_id\": 5, \"character\": \"John Carter\", \"c...\n",
              "                              ...                        \n",
              "4798    [{\"cast_id\": 1, \"character\": \"El Mariachi\", \"c...\n",
              "4799    [{\"cast_id\": 1, \"character\": \"Buzzy\", \"credit_...\n",
              "4800    [{\"cast_id\": 8, \"character\": \"Oliver O\\u2019To...\n",
              "4801    [{\"cast_id\": 3, \"character\": \"Sam\", \"credit_id...\n",
              "4802    [{\"cast_id\": 3, \"character\": \"Herself\", \"credi...\n",
              "Name: cast, Length: 4803, dtype: object"
            ]
          },
          "execution_count": 25,
          "metadata": {},
          "output_type": "execute_result"
        }
      ],
      "source": [
        "df2[\"cast\"]"
      ]
    },
    {
      "cell_type": "markdown",
      "metadata": {
        "id": "oG42S-PcKOGT"
      },
      "source": [
        "**Merging two csv file on the basic of common feature that is \"TITLE\"**"
      ]
    },
    {
      "cell_type": "code",
      "execution_count": 16,
      "metadata": {
        "id": "_d59C3rH-uUX"
      },
      "outputs": [],
      "source": [
        "movies=movies.merge(df2,on=\"title\")"
      ]
    },
    {
      "cell_type": "code",
      "execution_count": 24,
      "metadata": {
        "colab": {
          "base_uri": "https://localhost:8080/"
        },
        "id": "B6PPdF0rKaSg",
        "outputId": "2a228593-5286-4697-cc06-81442b98d1bb"
      },
      "outputs": [
        {
          "name": "stdout",
          "output_type": "stream",
          "text": [
            "<class 'pandas.core.frame.DataFrame'>\n",
            "Int64Index: 4809 entries, 0 to 4808\n",
            "Data columns (total 23 columns):\n",
            " #   Column                Non-Null Count  Dtype  \n",
            "---  ------                --------------  -----  \n",
            " 0   budget                4809 non-null   int64  \n",
            " 1   genres                4809 non-null   object \n",
            " 2   homepage              1713 non-null   object \n",
            " 3   id                    4809 non-null   int64  \n",
            " 4   keywords              4809 non-null   object \n",
            " 5   original_language     4809 non-null   object \n",
            " 6   original_title        4809 non-null   object \n",
            " 7   overview              4806 non-null   object \n",
            " 8   popularity            4809 non-null   float64\n",
            " 9   production_companies  4809 non-null   object \n",
            " 10  production_countries  4809 non-null   object \n",
            " 11  release_date          4808 non-null   object \n",
            " 12  revenue               4809 non-null   int64  \n",
            " 13  runtime               4807 non-null   float64\n",
            " 14  spoken_languages      4809 non-null   object \n",
            " 15  status                4809 non-null   object \n",
            " 16  tagline               3965 non-null   object \n",
            " 17  title                 4809 non-null   object \n",
            " 18  vote_average          4809 non-null   float64\n",
            " 19  vote_count            4809 non-null   int64  \n",
            " 20  movie_id              4809 non-null   int64  \n",
            " 21  cast                  4809 non-null   object \n",
            " 22  crew                  4809 non-null   object \n",
            "dtypes: float64(3), int64(5), object(15)\n",
            "memory usage: 901.7+ KB\n"
          ]
        }
      ],
      "source": [
        "movies.info()"
      ]
    },
    {
      "cell_type": "code",
      "execution_count": null,
      "metadata": {
        "id": "JGYCeO1X-8Sf"
      },
      "outputs": [],
      "source": [
        "# extract hero names and director name from credit csv"
      ]
    },
    {
      "cell_type": "markdown",
      "metadata": {
        "id": "0NK7ap4ZLYRN"
      },
      "source": [
        "#convert list of string to proper list with finding name"
      ]
    },
    {
      "cell_type": "code",
      "execution_count": 17,
      "metadata": {
        "id": "DpCnaLC6Bz5m"
      },
      "outputs": [],
      "source": [
        "import ast\n",
        "def str_list(x):\n",
        "  x=ast.literal_eval(x)\n",
        "  l=[]\n",
        "  for item in x:\n",
        "\n",
        "    l.append(item['name'])\n",
        "  \n",
        "  return l\n",
        "    \n",
        "\n",
        "\n"
      ]
    },
    {
      "cell_type": "code",
      "execution_count": 18,
      "metadata": {
        "id": "sERbVjobE7kP"
      },
      "outputs": [],
      "source": [
        "movies[\"cast\"]=movies[\"cast\"].apply(str_list)"
      ]
    },
    {
      "cell_type": "code",
      "execution_count": 19,
      "metadata": {
        "id": "JCCLBbLfFhKI"
      },
      "outputs": [],
      "source": [
        "import ast\n",
        "def str2_list(x):\n",
        "  x=ast.literal_eval(x)\n",
        "  l=[]\n",
        "  for item in x:\n",
        "    if item['job']==\"Director\":\n",
        "      l.append(item['name'])\n",
        "  \n",
        "  return l"
      ]
    },
    {
      "cell_type": "code",
      "execution_count": 20,
      "metadata": {
        "id": "J9HHwK_XGpFl"
      },
      "outputs": [],
      "source": [
        "movies[\"crew\"]=movies[\"crew\"].apply(str2_list)"
      ]
    },
    {
      "cell_type": "code",
      "execution_count": 23,
      "metadata": {
        "colab": {
          "base_uri": "https://localhost:8080/"
        },
        "id": "LfnVfejjHlO6",
        "outputId": "df2ca8b0-9c73-4067-b981-064d71ec2004"
      },
      "outputs": [
        {
          "data": {
            "text/plain": [
              "0       [Sam Worthington, Zoe Saldana, Sigourney Weave...\n",
              "1       [Johnny Depp, Orlando Bloom, Keira Knightley, ...\n",
              "2       [Daniel Craig, Christoph Waltz, Léa Seydoux, R...\n",
              "3       [Christian Bale, Michael Caine, Gary Oldman, A...\n",
              "4       [Taylor Kitsch, Lynn Collins, Samantha Morton,...\n",
              "                              ...                        \n",
              "4804    [Carlos Gallardo, Jaime de Hoyos, Peter Marqua...\n",
              "4805    [Edward Burns, Kerry Bishé, Marsha Dietlein, C...\n",
              "4806    [Eric Mabius, Kristin Booth, Crystal Lowe, Geo...\n",
              "4807    [Daniel Henney, Eliza Coupe, Bill Paxton, Alan...\n",
              "4808    [Drew Barrymore, Brian Herzlinger, Corey Feldm...\n",
              "Name: cast, Length: 4809, dtype: object"
            ]
          },
          "execution_count": 23,
          "metadata": {},
          "output_type": "execute_result"
        }
      ],
      "source": [
        "movies[\"cast\"]"
      ]
    },
    {
      "cell_type": "code",
      "execution_count": 22,
      "metadata": {
        "colab": {
          "base_uri": "https://localhost:8080/"
        },
        "id": "rj-PfP-kJMpe",
        "outputId": "e50f8409-690b-4e66-d58d-1b070bb49cf0"
      },
      "outputs": [
        {
          "data": {
            "text/plain": [
              "0                                [James Cameron]\n",
              "1                               [Gore Verbinski]\n",
              "2                                   [Sam Mendes]\n",
              "3                            [Christopher Nolan]\n",
              "4                               [Andrew Stanton]\n",
              "                          ...                   \n",
              "4804                          [Robert Rodriguez]\n",
              "4805                              [Edward Burns]\n",
              "4806                               [Scott Smith]\n",
              "4807                               [Daniel Hsia]\n",
              "4808    [Brian Herzlinger, Jon Gunn, Brett Winn]\n",
              "Name: crew, Length: 4809, dtype: object"
            ]
          },
          "execution_count": 22,
          "metadata": {},
          "output_type": "execute_result"
        }
      ],
      "source": [
        "movies[\"crew\"]"
      ]
    },
    {
      "cell_type": "code",
      "execution_count": 21,
      "metadata": {
        "id": "vqshsQCMPeOQ"
      },
      "outputs": [],
      "source": [
        "movies[\"genres\"]=movies['genres'].apply(str_list)\n",
        "movies[\"keywords\"]=movies['keywords'].apply(str_list)"
      ]
    },
    {
      "cell_type": "code",
      "execution_count": null,
      "metadata": {
        "id": "ffRMv5YaJudU"
      },
      "outputs": [],
      "source": [
        "# finding NA values "
      ]
    },
    {
      "cell_type": "code",
      "execution_count": 31,
      "metadata": {
        "colab": {
          "base_uri": "https://localhost:8080/"
        },
        "id": "VlJVuIlANESr",
        "outputId": "164d7bc5-d420-46c5-896c-1715ceb73fdd"
      },
      "outputs": [
        {
          "data": {
            "text/plain": [
              "budget                     0\n",
              "genres                     0\n",
              "homepage                3096\n",
              "id                         0\n",
              "keywords                   0\n",
              "original_language          0\n",
              "original_title             0\n",
              "overview                   3\n",
              "popularity                 0\n",
              "production_companies       0\n",
              "production_countries       0\n",
              "release_date               1\n",
              "revenue                    0\n",
              "runtime                    2\n",
              "spoken_languages           0\n",
              "status                     0\n",
              "tagline                  844\n",
              "title                      0\n",
              "vote_average               0\n",
              "vote_count                 0\n",
              "movie_id                   0\n",
              "cast                       0\n",
              "crew                       0\n",
              "dtype: int64"
            ]
          },
          "execution_count": 31,
          "metadata": {},
          "output_type": "execute_result"
        }
      ],
      "source": [
        "movies.isna().sum()"
      ]
    },
    {
      "cell_type": "code",
      "execution_count": 32,
      "metadata": {
        "colab": {
          "base_uri": "https://localhost:8080/",
          "height": 768
        },
        "id": "gr9wZWciQ7Dd",
        "outputId": "591e814f-0e6c-4e55-93a1-dd96210b7732"
      },
      "outputs": [
        {
          "data": {
            "text/html": [
              "<div>\n",
              "<style scoped>\n",
              "    .dataframe tbody tr th:only-of-type {\n",
              "        vertical-align: middle;\n",
              "    }\n",
              "\n",
              "    .dataframe tbody tr th {\n",
              "        vertical-align: top;\n",
              "    }\n",
              "\n",
              "    .dataframe thead th {\n",
              "        text-align: right;\n",
              "    }\n",
              "</style>\n",
              "<table border=\"1\" class=\"dataframe\">\n",
              "  <thead>\n",
              "    <tr style=\"text-align: right;\">\n",
              "      <th></th>\n",
              "      <th>budget</th>\n",
              "      <th>genres</th>\n",
              "      <th>homepage</th>\n",
              "      <th>id</th>\n",
              "      <th>keywords</th>\n",
              "      <th>original_language</th>\n",
              "      <th>original_title</th>\n",
              "      <th>overview</th>\n",
              "      <th>popularity</th>\n",
              "      <th>production_companies</th>\n",
              "      <th>...</th>\n",
              "      <th>runtime</th>\n",
              "      <th>spoken_languages</th>\n",
              "      <th>status</th>\n",
              "      <th>tagline</th>\n",
              "      <th>title</th>\n",
              "      <th>vote_average</th>\n",
              "      <th>vote_count</th>\n",
              "      <th>movie_id</th>\n",
              "      <th>cast</th>\n",
              "      <th>crew</th>\n",
              "    </tr>\n",
              "  </thead>\n",
              "  <tbody>\n",
              "    <tr>\n",
              "      <th>1570</th>\n",
              "      <td>30000000</td>\n",
              "      <td>[Adventure, Drama, Romance, War]</td>\n",
              "      <td>NaN</td>\n",
              "      <td>4476</td>\n",
              "      <td>[brother brother relationship, montana, based ...</td>\n",
              "      <td>en</td>\n",
              "      <td>Legends of the Fall</td>\n",
              "      <td>An epic tale of three brothers and their fathe...</td>\n",
              "      <td>26.952727</td>\n",
              "      <td>[{\"name\": \"Bedford Falls Productions\", \"id\": 3...</td>\n",
              "      <td>...</td>\n",
              "      <td>133.0</td>\n",
              "      <td>[{\"iso_639_1\": \"kw\", \"name\": \"\"}, {\"iso_639_1\"...</td>\n",
              "      <td>Released</td>\n",
              "      <td>After the Fall from Innocence the Legend begins.</td>\n",
              "      <td>Legends of the Fall</td>\n",
              "      <td>7.2</td>\n",
              "      <td>619</td>\n",
              "      <td>4476</td>\n",
              "      <td>[Brad Pitt, Anthony Hopkins, Aidan Quinn, Juli...</td>\n",
              "      <td>[Edward Zwick]</td>\n",
              "    </tr>\n",
              "    <tr>\n",
              "      <th>4381</th>\n",
              "      <td>1000000</td>\n",
              "      <td>[Drama]</td>\n",
              "      <td>NaN</td>\n",
              "      <td>46989</td>\n",
              "      <td>[independent film, woman director]</td>\n",
              "      <td>en</td>\n",
              "      <td>Blue Car</td>\n",
              "      <td>Gifted 18-year-old Meg has been abandoned by h...</td>\n",
              "      <td>0.672695</td>\n",
              "      <td>[]</td>\n",
              "      <td>...</td>\n",
              "      <td>92.0</td>\n",
              "      <td>[{\"iso_639_1\": \"en\", \"name\": \"English\"}]</td>\n",
              "      <td>Released</td>\n",
              "      <td>Ready or not... the future comes just the same.</td>\n",
              "      <td>Blue Car</td>\n",
              "      <td>6.7</td>\n",
              "      <td>13</td>\n",
              "      <td>46989</td>\n",
              "      <td>[Margaret Colin, Agnes Bruckner, David Stratha...</td>\n",
              "      <td>[Karen Moncrieff]</td>\n",
              "    </tr>\n",
              "    <tr>\n",
              "      <th>4330</th>\n",
              "      <td>0</td>\n",
              "      <td>[Drama]</td>\n",
              "      <td>NaN</td>\n",
              "      <td>29697</td>\n",
              "      <td>[christian film, food]</td>\n",
              "      <td>en</td>\n",
              "      <td>Faith Like Potatoes</td>\n",
              "      <td>Frank Rautenbach leads a strong cast as Angus ...</td>\n",
              "      <td>0.147886</td>\n",
              "      <td>[{\"name\": \"Global Creative Studios\", \"id\": 777...</td>\n",
              "      <td>...</td>\n",
              "      <td>97.0</td>\n",
              "      <td>[{\"iso_639_1\": \"en\", \"name\": \"English\"}, {\"iso...</td>\n",
              "      <td>Released</td>\n",
              "      <td>NaN</td>\n",
              "      <td>Faith Like Potatoes</td>\n",
              "      <td>6.0</td>\n",
              "      <td>9</td>\n",
              "      <td>29697</td>\n",
              "      <td>[Frank Rautenbach, Jeanne Neilson, Hamilton Dl...</td>\n",
              "      <td>[Regardt van den Bergh]</td>\n",
              "    </tr>\n",
              "    <tr>\n",
              "      <th>1376</th>\n",
              "      <td>35000000</td>\n",
              "      <td>[Drama, Crime]</td>\n",
              "      <td>http://www.sonypictures.com/movies/21/</td>\n",
              "      <td>8065</td>\n",
              "      <td>[gambling, card game, professor, harvard unive...</td>\n",
              "      <td>en</td>\n",
              "      <td>21</td>\n",
              "      <td>Ben Campbell is a young, highly intelligent, s...</td>\n",
              "      <td>45.149948</td>\n",
              "      <td>[{\"name\": \"Columbia Pictures\", \"id\": 5}, {\"nam...</td>\n",
              "      <td>...</td>\n",
              "      <td>123.0</td>\n",
              "      <td>[{\"iso_639_1\": \"en\", \"name\": \"English\"}]</td>\n",
              "      <td>Released</td>\n",
              "      <td>They proved the Vegas Blackjack System was bea...</td>\n",
              "      <td>21</td>\n",
              "      <td>6.5</td>\n",
              "      <td>1375</td>\n",
              "      <td>8065</td>\n",
              "      <td>[Jim Sturgess, Kevin Spacey, Kate Bosworth, Aa...</td>\n",
              "      <td>[Robert Luketic]</td>\n",
              "    </tr>\n",
              "    <tr>\n",
              "      <th>254</th>\n",
              "      <td>110000000</td>\n",
              "      <td>[Animation, Family, Adventure, Comedy, Fantasy]</td>\n",
              "      <td>http://www.smurfhappens.com/</td>\n",
              "      <td>41513</td>\n",
              "      <td>[moon, magic, based on comic book, animation, ...</td>\n",
              "      <td>en</td>\n",
              "      <td>The Smurfs</td>\n",
              "      <td>When the evil wizard Gargamel chases the tiny ...</td>\n",
              "      <td>36.654220</td>\n",
              "      <td>[{\"name\": \"Columbia Pictures\", \"id\": 5}, {\"nam...</td>\n",
              "      <td>...</td>\n",
              "      <td>103.0</td>\n",
              "      <td>[{\"iso_639_1\": \"en\", \"name\": \"English\"}]</td>\n",
              "      <td>Released</td>\n",
              "      <td>Smurf Happens.</td>\n",
              "      <td>The Smurfs</td>\n",
              "      <td>5.5</td>\n",
              "      <td>1179</td>\n",
              "      <td>41513</td>\n",
              "      <td>[Hank Azaria, Neil Patrick Harris, Jayma Mays,...</td>\n",
              "      <td>[Raja Gosnell]</td>\n",
              "    </tr>\n",
              "  </tbody>\n",
              "</table>\n",
              "<p>5 rows × 23 columns</p>\n",
              "</div>"
            ],
            "text/plain": [
              "         budget                                           genres  \\\n",
              "1570   30000000                 [Adventure, Drama, Romance, War]   \n",
              "4381    1000000                                          [Drama]   \n",
              "4330          0                                          [Drama]   \n",
              "1376   35000000                                   [Drama, Crime]   \n",
              "254   110000000  [Animation, Family, Adventure, Comedy, Fantasy]   \n",
              "\n",
              "                                    homepage     id  \\\n",
              "1570                                     NaN   4476   \n",
              "4381                                     NaN  46989   \n",
              "4330                                     NaN  29697   \n",
              "1376  http://www.sonypictures.com/movies/21/   8065   \n",
              "254             http://www.smurfhappens.com/  41513   \n",
              "\n",
              "                                               keywords original_language  \\\n",
              "1570  [brother brother relationship, montana, based ...                en   \n",
              "4381                 [independent film, woman director]                en   \n",
              "4330                             [christian film, food]                en   \n",
              "1376  [gambling, card game, professor, harvard unive...                en   \n",
              "254   [moon, magic, based on comic book, animation, ...                en   \n",
              "\n",
              "           original_title                                           overview  \\\n",
              "1570  Legends of the Fall  An epic tale of three brothers and their fathe...   \n",
              "4381             Blue Car  Gifted 18-year-old Meg has been abandoned by h...   \n",
              "4330  Faith Like Potatoes  Frank Rautenbach leads a strong cast as Angus ...   \n",
              "1376                   21  Ben Campbell is a young, highly intelligent, s...   \n",
              "254            The Smurfs  When the evil wizard Gargamel chases the tiny ...   \n",
              "\n",
              "      popularity                               production_companies  ...  \\\n",
              "1570   26.952727  [{\"name\": \"Bedford Falls Productions\", \"id\": 3...  ...   \n",
              "4381    0.672695                                                 []  ...   \n",
              "4330    0.147886  [{\"name\": \"Global Creative Studios\", \"id\": 777...  ...   \n",
              "1376   45.149948  [{\"name\": \"Columbia Pictures\", \"id\": 5}, {\"nam...  ...   \n",
              "254    36.654220  [{\"name\": \"Columbia Pictures\", \"id\": 5}, {\"nam...  ...   \n",
              "\n",
              "     runtime                                   spoken_languages    status  \\\n",
              "1570   133.0  [{\"iso_639_1\": \"kw\", \"name\": \"\"}, {\"iso_639_1\"...  Released   \n",
              "4381    92.0           [{\"iso_639_1\": \"en\", \"name\": \"English\"}]  Released   \n",
              "4330    97.0  [{\"iso_639_1\": \"en\", \"name\": \"English\"}, {\"iso...  Released   \n",
              "1376   123.0           [{\"iso_639_1\": \"en\", \"name\": \"English\"}]  Released   \n",
              "254    103.0           [{\"iso_639_1\": \"en\", \"name\": \"English\"}]  Released   \n",
              "\n",
              "                                                tagline                title  \\\n",
              "1570   After the Fall from Innocence the Legend begins.  Legends of the Fall   \n",
              "4381    Ready or not... the future comes just the same.             Blue Car   \n",
              "4330                                                NaN  Faith Like Potatoes   \n",
              "1376  They proved the Vegas Blackjack System was bea...                   21   \n",
              "254                                      Smurf Happens.           The Smurfs   \n",
              "\n",
              "     vote_average vote_count movie_id  \\\n",
              "1570          7.2        619     4476   \n",
              "4381          6.7         13    46989   \n",
              "4330          6.0          9    29697   \n",
              "1376          6.5       1375     8065   \n",
              "254           5.5       1179    41513   \n",
              "\n",
              "                                                   cast  \\\n",
              "1570  [Brad Pitt, Anthony Hopkins, Aidan Quinn, Juli...   \n",
              "4381  [Margaret Colin, Agnes Bruckner, David Stratha...   \n",
              "4330  [Frank Rautenbach, Jeanne Neilson, Hamilton Dl...   \n",
              "1376  [Jim Sturgess, Kevin Spacey, Kate Bosworth, Aa...   \n",
              "254   [Hank Azaria, Neil Patrick Harris, Jayma Mays,...   \n",
              "\n",
              "                         crew  \n",
              "1570           [Edward Zwick]  \n",
              "4381        [Karen Moncrieff]  \n",
              "4330  [Regardt van den Bergh]  \n",
              "1376         [Robert Luketic]  \n",
              "254            [Raja Gosnell]  \n",
              "\n",
              "[5 rows x 23 columns]"
            ]
          },
          "execution_count": 32,
          "metadata": {},
          "output_type": "execute_result"
        }
      ],
      "source": [
        "movies.sample(5)"
      ]
    },
    {
      "cell_type": "code",
      "execution_count": 33,
      "metadata": {
        "id": "L4kZ-S4HNji3"
      },
      "outputs": [],
      "source": [
        "# removing space \n",
        "def _join(x):\n",
        "  l=[]\n",
        "  for i in x:\n",
        "    l.append(i.replace(\" \",\"\"))\n",
        "  return l"
      ]
    },
    {
      "cell_type": "code",
      "execution_count": 34,
      "metadata": {
        "id": "Zs-nrtvKRVS2"
      },
      "outputs": [],
      "source": [
        "movies[\"cast\"]=movies[\"cast\"].apply(_join)\n",
        "\n"
      ]
    },
    {
      "cell_type": "code",
      "execution_count": 35,
      "metadata": {
        "id": "kbEB1eC7S-r8"
      },
      "outputs": [],
      "source": [
        "movies[\"cast\"]=movies[\"cast\"].apply(lambda i:i[0:3])"
      ]
    },
    {
      "cell_type": "code",
      "execution_count": 36,
      "metadata": {
        "colab": {
          "base_uri": "https://localhost:8080/"
        },
        "id": "uhBnbGEvUP5j",
        "outputId": "62407e62-4648-44a4-b4c5-58f4d19b82f7"
      },
      "outputs": [
        {
          "data": {
            "text/plain": [
              "0        [SamWorthington, ZoeSaldana, SigourneyWeaver]\n",
              "1           [JohnnyDepp, OrlandoBloom, KeiraKnightley]\n",
              "2            [DanielCraig, ChristophWaltz, LéaSeydoux]\n",
              "3            [ChristianBale, MichaelCaine, GaryOldman]\n",
              "4          [TaylorKitsch, LynnCollins, SamanthaMorton]\n",
              "                             ...                      \n",
              "4804    [CarlosGallardo, JaimedeHoyos, PeterMarquardt]\n",
              "4805         [EdwardBurns, KerryBishé, MarshaDietlein]\n",
              "4806           [EricMabius, KristinBooth, CrystalLowe]\n",
              "4807            [DanielHenney, ElizaCoupe, BillPaxton]\n",
              "4808    [DrewBarrymore, BrianHerzlinger, CoreyFeldman]\n",
              "Name: cast, Length: 4809, dtype: object"
            ]
          },
          "execution_count": 36,
          "metadata": {},
          "output_type": "execute_result"
        }
      ],
      "source": [
        "movies[\"cast\"]"
      ]
    },
    {
      "attachments": {},
      "cell_type": "markdown",
      "metadata": {
        "id": "XRsn8EL1NnCE"
      },
      "source": [
        "1.genres\n",
        "2.key words\n",
        "3.title\n",
        "4.overview\n",
        "5.cast (name)\n",
        "6.crew(director name) "
      ]
    },
    {
      "cell_type": "code",
      "execution_count": 37,
      "metadata": {
        "id": "EnsbLybYNsvf"
      },
      "outputs": [],
      "source": [
        "new_df=pd.DataFrame(movies,columns=['id','homepage','title','cast','crew','overview','genres','keywords'])"
      ]
    },
    {
      "cell_type": "code",
      "execution_count": 38,
      "metadata": {
        "colab": {
          "base_uri": "https://localhost:8080/",
          "height": 719
        },
        "id": "2DdoTGuzOJr2",
        "outputId": "8ddc2fca-9d52-4dbd-f350-4095c892f9fd"
      },
      "outputs": [
        {
          "data": {
            "text/html": [
              "<div>\n",
              "<style scoped>\n",
              "    .dataframe tbody tr th:only-of-type {\n",
              "        vertical-align: middle;\n",
              "    }\n",
              "\n",
              "    .dataframe tbody tr th {\n",
              "        vertical-align: top;\n",
              "    }\n",
              "\n",
              "    .dataframe thead th {\n",
              "        text-align: right;\n",
              "    }\n",
              "</style>\n",
              "<table border=\"1\" class=\"dataframe\">\n",
              "  <thead>\n",
              "    <tr style=\"text-align: right;\">\n",
              "      <th></th>\n",
              "      <th>id</th>\n",
              "      <th>homepage</th>\n",
              "      <th>title</th>\n",
              "      <th>cast</th>\n",
              "      <th>crew</th>\n",
              "      <th>overview</th>\n",
              "      <th>genres</th>\n",
              "      <th>keywords</th>\n",
              "    </tr>\n",
              "  </thead>\n",
              "  <tbody>\n",
              "    <tr>\n",
              "      <th>0</th>\n",
              "      <td>19995</td>\n",
              "      <td>http://www.avatarmovie.com/</td>\n",
              "      <td>Avatar</td>\n",
              "      <td>[SamWorthington, ZoeSaldana, SigourneyWeaver]</td>\n",
              "      <td>[James Cameron]</td>\n",
              "      <td>In the 22nd century, a paraplegic Marine is di...</td>\n",
              "      <td>[Action, Adventure, Fantasy, Science Fiction]</td>\n",
              "      <td>[culture clash, future, space war, space colon...</td>\n",
              "    </tr>\n",
              "    <tr>\n",
              "      <th>1</th>\n",
              "      <td>285</td>\n",
              "      <td>http://disney.go.com/disneypictures/pirates/</td>\n",
              "      <td>Pirates of the Caribbean: At World's End</td>\n",
              "      <td>[JohnnyDepp, OrlandoBloom, KeiraKnightley]</td>\n",
              "      <td>[Gore Verbinski]</td>\n",
              "      <td>Captain Barbossa, long believed to be dead, ha...</td>\n",
              "      <td>[Adventure, Fantasy, Action]</td>\n",
              "      <td>[ocean, drug abuse, exotic island, east india ...</td>\n",
              "    </tr>\n",
              "    <tr>\n",
              "      <th>2</th>\n",
              "      <td>206647</td>\n",
              "      <td>http://www.sonypictures.com/movies/spectre/</td>\n",
              "      <td>Spectre</td>\n",
              "      <td>[DanielCraig, ChristophWaltz, LéaSeydoux]</td>\n",
              "      <td>[Sam Mendes]</td>\n",
              "      <td>A cryptic message from Bond’s past sends him o...</td>\n",
              "      <td>[Action, Adventure, Crime]</td>\n",
              "      <td>[spy, based on novel, secret agent, sequel, mi...</td>\n",
              "    </tr>\n",
              "    <tr>\n",
              "      <th>3</th>\n",
              "      <td>49026</td>\n",
              "      <td>http://www.thedarkknightrises.com/</td>\n",
              "      <td>The Dark Knight Rises</td>\n",
              "      <td>[ChristianBale, MichaelCaine, GaryOldman]</td>\n",
              "      <td>[Christopher Nolan]</td>\n",
              "      <td>Following the death of District Attorney Harve...</td>\n",
              "      <td>[Action, Crime, Drama, Thriller]</td>\n",
              "      <td>[dc comics, crime fighter, terrorist, secret i...</td>\n",
              "    </tr>\n",
              "    <tr>\n",
              "      <th>4</th>\n",
              "      <td>49529</td>\n",
              "      <td>http://movies.disney.com/john-carter</td>\n",
              "      <td>John Carter</td>\n",
              "      <td>[TaylorKitsch, LynnCollins, SamanthaMorton]</td>\n",
              "      <td>[Andrew Stanton]</td>\n",
              "      <td>John Carter is a war-weary, former military ca...</td>\n",
              "      <td>[Action, Adventure, Science Fiction]</td>\n",
              "      <td>[based on novel, mars, medallion, space travel...</td>\n",
              "    </tr>\n",
              "  </tbody>\n",
              "</table>\n",
              "</div>"
            ],
            "text/plain": [
              "       id                                      homepage  \\\n",
              "0   19995                   http://www.avatarmovie.com/   \n",
              "1     285  http://disney.go.com/disneypictures/pirates/   \n",
              "2  206647   http://www.sonypictures.com/movies/spectre/   \n",
              "3   49026            http://www.thedarkknightrises.com/   \n",
              "4   49529          http://movies.disney.com/john-carter   \n",
              "\n",
              "                                      title  \\\n",
              "0                                    Avatar   \n",
              "1  Pirates of the Caribbean: At World's End   \n",
              "2                                   Spectre   \n",
              "3                     The Dark Knight Rises   \n",
              "4                               John Carter   \n",
              "\n",
              "                                            cast                 crew  \\\n",
              "0  [SamWorthington, ZoeSaldana, SigourneyWeaver]      [James Cameron]   \n",
              "1     [JohnnyDepp, OrlandoBloom, KeiraKnightley]     [Gore Verbinski]   \n",
              "2      [DanielCraig, ChristophWaltz, LéaSeydoux]         [Sam Mendes]   \n",
              "3      [ChristianBale, MichaelCaine, GaryOldman]  [Christopher Nolan]   \n",
              "4    [TaylorKitsch, LynnCollins, SamanthaMorton]     [Andrew Stanton]   \n",
              "\n",
              "                                            overview  \\\n",
              "0  In the 22nd century, a paraplegic Marine is di...   \n",
              "1  Captain Barbossa, long believed to be dead, ha...   \n",
              "2  A cryptic message from Bond’s past sends him o...   \n",
              "3  Following the death of District Attorney Harve...   \n",
              "4  John Carter is a war-weary, former military ca...   \n",
              "\n",
              "                                          genres  \\\n",
              "0  [Action, Adventure, Fantasy, Science Fiction]   \n",
              "1                   [Adventure, Fantasy, Action]   \n",
              "2                     [Action, Adventure, Crime]   \n",
              "3               [Action, Crime, Drama, Thriller]   \n",
              "4           [Action, Adventure, Science Fiction]   \n",
              "\n",
              "                                            keywords  \n",
              "0  [culture clash, future, space war, space colon...  \n",
              "1  [ocean, drug abuse, exotic island, east india ...  \n",
              "2  [spy, based on novel, secret agent, sequel, mi...  \n",
              "3  [dc comics, crime fighter, terrorist, secret i...  \n",
              "4  [based on novel, mars, medallion, space travel...  "
            ]
          },
          "execution_count": 38,
          "metadata": {},
          "output_type": "execute_result"
        }
      ],
      "source": [
        "new_df.head(5)"
      ]
    },
    {
      "cell_type": "code",
      "execution_count": 39,
      "metadata": {
        "id": "nv3PCjqdV0h9"
      },
      "outputs": [],
      "source": [
        "new_df['crew']=new_df['crew'].apply(_join)"
      ]
    },
    {
      "cell_type": "code",
      "execution_count": 40,
      "metadata": {
        "colab": {
          "base_uri": "https://localhost:8080/",
          "height": 774
        },
        "id": "CCu7ggLQWdaL",
        "outputId": "97e32f89-e5f7-41d3-993c-44c270de342a"
      },
      "outputs": [
        {
          "data": {
            "text/html": [
              "<div>\n",
              "<style scoped>\n",
              "    .dataframe tbody tr th:only-of-type {\n",
              "        vertical-align: middle;\n",
              "    }\n",
              "\n",
              "    .dataframe tbody tr th {\n",
              "        vertical-align: top;\n",
              "    }\n",
              "\n",
              "    .dataframe thead th {\n",
              "        text-align: right;\n",
              "    }\n",
              "</style>\n",
              "<table border=\"1\" class=\"dataframe\">\n",
              "  <thead>\n",
              "    <tr style=\"text-align: right;\">\n",
              "      <th></th>\n",
              "      <th>id</th>\n",
              "      <th>homepage</th>\n",
              "      <th>title</th>\n",
              "      <th>cast</th>\n",
              "      <th>crew</th>\n",
              "      <th>overview</th>\n",
              "      <th>genres</th>\n",
              "      <th>keywords</th>\n",
              "    </tr>\n",
              "  </thead>\n",
              "  <tbody>\n",
              "    <tr>\n",
              "      <th>0</th>\n",
              "      <td>19995</td>\n",
              "      <td>http://www.avatarmovie.com/</td>\n",
              "      <td>Avatar</td>\n",
              "      <td>[SamWorthington, ZoeSaldana, SigourneyWeaver]</td>\n",
              "      <td>[JamesCameron]</td>\n",
              "      <td>In the 22nd century, a paraplegic Marine is di...</td>\n",
              "      <td>[Action, Adventure, Fantasy, Science Fiction]</td>\n",
              "      <td>[culture clash, future, space war, space colon...</td>\n",
              "    </tr>\n",
              "    <tr>\n",
              "      <th>1</th>\n",
              "      <td>285</td>\n",
              "      <td>http://disney.go.com/disneypictures/pirates/</td>\n",
              "      <td>Pirates of the Caribbean: At World's End</td>\n",
              "      <td>[JohnnyDepp, OrlandoBloom, KeiraKnightley]</td>\n",
              "      <td>[GoreVerbinski]</td>\n",
              "      <td>Captain Barbossa, long believed to be dead, ha...</td>\n",
              "      <td>[Adventure, Fantasy, Action]</td>\n",
              "      <td>[ocean, drug abuse, exotic island, east india ...</td>\n",
              "    </tr>\n",
              "    <tr>\n",
              "      <th>2</th>\n",
              "      <td>206647</td>\n",
              "      <td>http://www.sonypictures.com/movies/spectre/</td>\n",
              "      <td>Spectre</td>\n",
              "      <td>[DanielCraig, ChristophWaltz, LéaSeydoux]</td>\n",
              "      <td>[SamMendes]</td>\n",
              "      <td>A cryptic message from Bond’s past sends him o...</td>\n",
              "      <td>[Action, Adventure, Crime]</td>\n",
              "      <td>[spy, based on novel, secret agent, sequel, mi...</td>\n",
              "    </tr>\n",
              "    <tr>\n",
              "      <th>3</th>\n",
              "      <td>49026</td>\n",
              "      <td>http://www.thedarkknightrises.com/</td>\n",
              "      <td>The Dark Knight Rises</td>\n",
              "      <td>[ChristianBale, MichaelCaine, GaryOldman]</td>\n",
              "      <td>[ChristopherNolan]</td>\n",
              "      <td>Following the death of District Attorney Harve...</td>\n",
              "      <td>[Action, Crime, Drama, Thriller]</td>\n",
              "      <td>[dc comics, crime fighter, terrorist, secret i...</td>\n",
              "    </tr>\n",
              "    <tr>\n",
              "      <th>4</th>\n",
              "      <td>49529</td>\n",
              "      <td>http://movies.disney.com/john-carter</td>\n",
              "      <td>John Carter</td>\n",
              "      <td>[TaylorKitsch, LynnCollins, SamanthaMorton]</td>\n",
              "      <td>[AndrewStanton]</td>\n",
              "      <td>John Carter is a war-weary, former military ca...</td>\n",
              "      <td>[Action, Adventure, Science Fiction]</td>\n",
              "      <td>[based on novel, mars, medallion, space travel...</td>\n",
              "    </tr>\n",
              "  </tbody>\n",
              "</table>\n",
              "</div>"
            ],
            "text/plain": [
              "       id                                      homepage  \\\n",
              "0   19995                   http://www.avatarmovie.com/   \n",
              "1     285  http://disney.go.com/disneypictures/pirates/   \n",
              "2  206647   http://www.sonypictures.com/movies/spectre/   \n",
              "3   49026            http://www.thedarkknightrises.com/   \n",
              "4   49529          http://movies.disney.com/john-carter   \n",
              "\n",
              "                                      title  \\\n",
              "0                                    Avatar   \n",
              "1  Pirates of the Caribbean: At World's End   \n",
              "2                                   Spectre   \n",
              "3                     The Dark Knight Rises   \n",
              "4                               John Carter   \n",
              "\n",
              "                                            cast                crew  \\\n",
              "0  [SamWorthington, ZoeSaldana, SigourneyWeaver]      [JamesCameron]   \n",
              "1     [JohnnyDepp, OrlandoBloom, KeiraKnightley]     [GoreVerbinski]   \n",
              "2      [DanielCraig, ChristophWaltz, LéaSeydoux]         [SamMendes]   \n",
              "3      [ChristianBale, MichaelCaine, GaryOldman]  [ChristopherNolan]   \n",
              "4    [TaylorKitsch, LynnCollins, SamanthaMorton]     [AndrewStanton]   \n",
              "\n",
              "                                            overview  \\\n",
              "0  In the 22nd century, a paraplegic Marine is di...   \n",
              "1  Captain Barbossa, long believed to be dead, ha...   \n",
              "2  A cryptic message from Bond’s past sends him o...   \n",
              "3  Following the death of District Attorney Harve...   \n",
              "4  John Carter is a war-weary, former military ca...   \n",
              "\n",
              "                                          genres  \\\n",
              "0  [Action, Adventure, Fantasy, Science Fiction]   \n",
              "1                   [Adventure, Fantasy, Action]   \n",
              "2                     [Action, Adventure, Crime]   \n",
              "3               [Action, Crime, Drama, Thriller]   \n",
              "4           [Action, Adventure, Science Fiction]   \n",
              "\n",
              "                                            keywords  \n",
              "0  [culture clash, future, space war, space colon...  \n",
              "1  [ocean, drug abuse, exotic island, east india ...  \n",
              "2  [spy, based on novel, secret agent, sequel, mi...  \n",
              "3  [dc comics, crime fighter, terrorist, secret i...  \n",
              "4  [based on novel, mars, medallion, space travel...  "
            ]
          },
          "execution_count": 40,
          "metadata": {},
          "output_type": "execute_result"
        }
      ],
      "source": [
        "new_df.head()"
      ]
    },
    {
      "cell_type": "code",
      "execution_count": 41,
      "metadata": {
        "colab": {
          "base_uri": "https://localhost:8080/"
        },
        "id": "xwc6Kcm_WpGV",
        "outputId": "7f42b5ca-6394-405e-c33d-dd5345bcb923"
      },
      "outputs": [
        {
          "data": {
            "text/plain": [
              "id             0\n",
              "homepage    3096\n",
              "title          0\n",
              "cast           0\n",
              "crew           0\n",
              "overview       3\n",
              "genres         0\n",
              "keywords       0\n",
              "dtype: int64"
            ]
          },
          "execution_count": 41,
          "metadata": {},
          "output_type": "execute_result"
        }
      ],
      "source": [
        "new_df.isna().sum()"
      ]
    },
    {
      "cell_type": "code",
      "execution_count": 42,
      "metadata": {
        "id": "dorJrIA8hsIw"
      },
      "outputs": [],
      "source": [
        "new_df[\"homepage\"]=new_df[\"homepage\"].fillna(0)"
      ]
    },
    {
      "cell_type": "code",
      "execution_count": 43,
      "metadata": {
        "colab": {
          "base_uri": "https://localhost:8080/"
        },
        "id": "Tt6bKeV8cKGY",
        "outputId": "696e0e5d-e974-4c4a-d838-e4b83d0cdaf5"
      },
      "outputs": [
        {
          "name": "stderr",
          "output_type": "stream",
          "text": [
            "C:\\Users\\Yogesh\\AppData\\Local\\Temp\\ipykernel_20632\\3303242796.py:10: SettingWithCopyWarning: \n",
            "A value is trying to be set on a copy of a slice from a DataFrame\n",
            "\n",
            "See the caveats in the documentation: https://pandas.pydata.org/pandas-docs/stable/user_guide/indexing.html#returning-a-view-versus-a-copy\n",
            "  new_df[\"urls\"][i]=new_df[\"homepage\"][i]\n"
          ]
        }
      ],
      "source": [
        "url=list(enumerate(new_df[\"homepage\"]))\n",
        "new_df[\"urls\"]=0\n",
        "for i in range(len(url)):\n",
        "  if new_df[\"homepage\"][i]==0:\n",
        "    \n",
        "    x=(\"{}/{}\".format(\"https://www.\",str(\"\".join(list(new_df[\"title\"][url[i][0]].split())))))\n",
        "\n",
        "    new_df[\"urls\"][i]=x\n",
        "  else:\n",
        "    new_df[\"urls\"][i]=new_df[\"homepage\"][i]"
      ]
    },
    {
      "cell_type": "code",
      "execution_count": 45,
      "metadata": {
        "colab": {
          "base_uri": "https://localhost:8080/"
        },
        "id": "D42ld3ZLW_SM",
        "outputId": "2979a798-1e1f-4515-eefd-fd0cee0c5d67"
      },
      "outputs": [
        {
          "data": {
            "text/plain": [
              "0                             http://www.avatarmovie.com/\n",
              "1            http://disney.go.com/disneypictures/pirates/\n",
              "2             http://www.sonypictures.com/movies/spectre/\n",
              "3                      http://www.thedarkknightrises.com/\n",
              "4                    http://movies.disney.com/john-carter\n",
              "                              ...                        \n",
              "4804                              https://www./ElMariachi\n",
              "4805                               https://www./Newlyweds\n",
              "4806    http://www.hallmarkchannel.com/signedsealeddel...\n",
              "4807                          http://shanghaicalling.com/\n",
              "4808                          https://www./MyDatewithDrew\n",
              "Name: urls, Length: 4809, dtype: object"
            ]
          },
          "execution_count": 45,
          "metadata": {},
          "output_type": "execute_result"
        }
      ],
      "source": [
        "\n",
        "# def link(url,i):\n",
        "#   s=url\n",
        "#   x=\"{} + {}\".format(\"https://www.\",str(new_df.iloc[[url[i][0]]].title))\n",
        "#   iF s is \"link\" \n",
        "#     return x\n",
        "#   else:\n",
        "#     return s\n",
        "# # new_df[new_df[\"homepage\"].fillna(\"{} + {}\".format(\"https://www.\",new_df[\"title\"]]))\n",
        "new_df[\"urls\"]"
      ]
    },
    {
      "cell_type": "code",
      "execution_count": 44,
      "metadata": {
        "colab": {
          "base_uri": "https://localhost:8080/",
          "height": 565
        },
        "id": "ViDfZ3uwiERZ",
        "outputId": "7af6e8de-5c4c-4eb0-be19-00d5b007e3a4"
      },
      "outputs": [
        {
          "data": {
            "text/html": [
              "<div>\n",
              "<style scoped>\n",
              "    .dataframe tbody tr th:only-of-type {\n",
              "        vertical-align: middle;\n",
              "    }\n",
              "\n",
              "    .dataframe tbody tr th {\n",
              "        vertical-align: top;\n",
              "    }\n",
              "\n",
              "    .dataframe thead th {\n",
              "        text-align: right;\n",
              "    }\n",
              "</style>\n",
              "<table border=\"1\" class=\"dataframe\">\n",
              "  <thead>\n",
              "    <tr style=\"text-align: right;\">\n",
              "      <th></th>\n",
              "      <th>id</th>\n",
              "      <th>homepage</th>\n",
              "      <th>title</th>\n",
              "      <th>cast</th>\n",
              "      <th>crew</th>\n",
              "      <th>overview</th>\n",
              "      <th>genres</th>\n",
              "      <th>keywords</th>\n",
              "      <th>urls</th>\n",
              "    </tr>\n",
              "  </thead>\n",
              "  <tbody>\n",
              "    <tr>\n",
              "      <th>4126</th>\n",
              "      <td>12109</td>\n",
              "      <td>0</td>\n",
              "      <td>It's All Gone Pete Tong</td>\n",
              "      <td>[PaulKaye, KateMagowan, NeilMaskell]</td>\n",
              "      <td>[MichaelDowse]</td>\n",
              "      <td>Its All Gone Pete Tong is a comedy following t...</td>\n",
              "      <td>[Drama, Comedy, Music]</td>\n",
              "      <td>[disc jockey, loss of family, cocaine, comebac...</td>\n",
              "      <td>https://www./It'sAllGonePeteTong</td>\n",
              "    </tr>\n",
              "    <tr>\n",
              "      <th>1390</th>\n",
              "      <td>50544</td>\n",
              "      <td>http://www.fwb-movie.com/</td>\n",
              "      <td>Friends with Benefits</td>\n",
              "      <td>[JustinTimberlake, MilaKunis, PatriciaClarkson]</td>\n",
              "      <td>[WillGluck]</td>\n",
              "      <td>Jamie is a New York-based executive recruiter ...</td>\n",
              "      <td>[Romance, Comedy]</td>\n",
              "      <td>[funeral, friends, hospital, aftercreditssting...</td>\n",
              "      <td>http://www.fwb-movie.com/</td>\n",
              "    </tr>\n",
              "    <tr>\n",
              "      <th>1258</th>\n",
              "      <td>80278</td>\n",
              "      <td>0</td>\n",
              "      <td>The Impossible</td>\n",
              "      <td>[NaomiWatts, EwanMcGregor, TomHolland]</td>\n",
              "      <td>[JuanAntonioBayona]</td>\n",
              "      <td>In December 2004, close-knit family Maria, Hen...</td>\n",
              "      <td>[Thriller, Drama]</td>\n",
              "      <td>[thailand, tsunami, family vacation, tidal wav...</td>\n",
              "      <td>https://www./TheImpossible</td>\n",
              "    </tr>\n",
              "    <tr>\n",
              "      <th>107</th>\n",
              "      <td>68735</td>\n",
              "      <td>http://www.warcraft-themovie.com/</td>\n",
              "      <td>Warcraft</td>\n",
              "      <td>[PaulaPatton, TravisFimmel, BenFoster]</td>\n",
              "      <td>[DuncanJones]</td>\n",
              "      <td>The peaceful realm of Azeroth stands on the br...</td>\n",
              "      <td>[Action, Adventure, Fantasy]</td>\n",
              "      <td>[video game, elves, orcs, magic, chase, based ...</td>\n",
              "      <td>http://www.warcraft-themovie.com/</td>\n",
              "    </tr>\n",
              "    <tr>\n",
              "      <th>2124</th>\n",
              "      <td>9963</td>\n",
              "      <td>0</td>\n",
              "      <td>Premonition</td>\n",
              "      <td>[SandraBullock, JulianMcMahon, CourtneyTaylorB...</td>\n",
              "      <td>[MennanYapo]</td>\n",
              "      <td>A depressed housewife who learns her husband w...</td>\n",
              "      <td>[Thriller, Drama, Mystery]</td>\n",
              "      <td>[deja vu, dying and death, time travel, loss o...</td>\n",
              "      <td>https://www./Premonition</td>\n",
              "    </tr>\n",
              "  </tbody>\n",
              "</table>\n",
              "</div>"
            ],
            "text/plain": [
              "         id                           homepage                    title  \\\n",
              "4126  12109                                  0  It's All Gone Pete Tong   \n",
              "1390  50544          http://www.fwb-movie.com/    Friends with Benefits   \n",
              "1258  80278                                  0           The Impossible   \n",
              "107   68735  http://www.warcraft-themovie.com/                 Warcraft   \n",
              "2124   9963                                  0              Premonition   \n",
              "\n",
              "                                                   cast                 crew  \\\n",
              "4126               [PaulKaye, KateMagowan, NeilMaskell]       [MichaelDowse]   \n",
              "1390    [JustinTimberlake, MilaKunis, PatriciaClarkson]          [WillGluck]   \n",
              "1258             [NaomiWatts, EwanMcGregor, TomHolland]  [JuanAntonioBayona]   \n",
              "107              [PaulaPatton, TravisFimmel, BenFoster]        [DuncanJones]   \n",
              "2124  [SandraBullock, JulianMcMahon, CourtneyTaylorB...         [MennanYapo]   \n",
              "\n",
              "                                               overview  \\\n",
              "4126  Its All Gone Pete Tong is a comedy following t...   \n",
              "1390  Jamie is a New York-based executive recruiter ...   \n",
              "1258  In December 2004, close-knit family Maria, Hen...   \n",
              "107   The peaceful realm of Azeroth stands on the br...   \n",
              "2124  A depressed housewife who learns her husband w...   \n",
              "\n",
              "                            genres  \\\n",
              "4126        [Drama, Comedy, Music]   \n",
              "1390             [Romance, Comedy]   \n",
              "1258             [Thriller, Drama]   \n",
              "107   [Action, Adventure, Fantasy]   \n",
              "2124    [Thriller, Drama, Mystery]   \n",
              "\n",
              "                                               keywords  \\\n",
              "4126  [disc jockey, loss of family, cocaine, comebac...   \n",
              "1390  [funeral, friends, hospital, aftercreditssting...   \n",
              "1258  [thailand, tsunami, family vacation, tidal wav...   \n",
              "107   [video game, elves, orcs, magic, chase, based ...   \n",
              "2124  [deja vu, dying and death, time travel, loss o...   \n",
              "\n",
              "                                   urls  \n",
              "4126   https://www./It'sAllGonePeteTong  \n",
              "1390          http://www.fwb-movie.com/  \n",
              "1258         https://www./TheImpossible  \n",
              "107   http://www.warcraft-themovie.com/  \n",
              "2124           https://www./Premonition  "
            ]
          },
          "execution_count": 44,
          "metadata": {},
          "output_type": "execute_result"
        }
      ],
      "source": [
        "# new_df.iloc[[0]].title\n",
        "new_df.sample(5)"
      ]
    },
    {
      "cell_type": "code",
      "execution_count": 46,
      "metadata": {
        "id": "zOEqmAu6XMy8"
      },
      "outputs": [],
      "source": [
        "# to convert string into list of strings \n",
        "def spliting(text):\n",
        "  text=str(text).split()\n",
        "  return text"
      ]
    },
    {
      "cell_type": "code",
      "execution_count": 47,
      "metadata": {
        "id": "9AuS-rHjX_oF"
      },
      "outputs": [],
      "source": [
        "new_df['overview']=new_df['overview'].apply(spliting)"
      ]
    },
    {
      "cell_type": "code",
      "execution_count": 48,
      "metadata": {
        "id": "Vt2-skZhYJwM"
      },
      "outputs": [],
      "source": [
        "new_df['all_tags']=new_df['overview'] + new_df['genres'] + new_df['keywords'] + new_df['cast'] + new_df['crew']"
      ]
    },
    {
      "cell_type": "code",
      "execution_count": 49,
      "metadata": {
        "id": "3Q5sLoyVZaf2"
      },
      "outputs": [],
      "source": [
        "new_df.drop(columns=['overview','genres' ,'keywords','cast' , 'crew','homepage'],inplace=True)"
      ]
    },
    {
      "cell_type": "code",
      "execution_count": 50,
      "metadata": {
        "colab": {
          "base_uri": "https://localhost:8080/",
          "height": 285
        },
        "id": "R5rc9UQvbJOT",
        "outputId": "3fb46915-7ae9-4a03-a2d8-d61ff53cc63b"
      },
      "outputs": [
        {
          "data": {
            "text/html": [
              "<div>\n",
              "<style scoped>\n",
              "    .dataframe tbody tr th:only-of-type {\n",
              "        vertical-align: middle;\n",
              "    }\n",
              "\n",
              "    .dataframe tbody tr th {\n",
              "        vertical-align: top;\n",
              "    }\n",
              "\n",
              "    .dataframe thead th {\n",
              "        text-align: right;\n",
              "    }\n",
              "</style>\n",
              "<table border=\"1\" class=\"dataframe\">\n",
              "  <thead>\n",
              "    <tr style=\"text-align: right;\">\n",
              "      <th></th>\n",
              "      <th>id</th>\n",
              "      <th>title</th>\n",
              "      <th>urls</th>\n",
              "      <th>all_tags</th>\n",
              "    </tr>\n",
              "  </thead>\n",
              "  <tbody>\n",
              "    <tr>\n",
              "      <th>0</th>\n",
              "      <td>19995</td>\n",
              "      <td>Avatar</td>\n",
              "      <td>http://www.avatarmovie.com/</td>\n",
              "      <td>[In, the, 22nd, century,, a, paraplegic, Marin...</td>\n",
              "    </tr>\n",
              "    <tr>\n",
              "      <th>1</th>\n",
              "      <td>285</td>\n",
              "      <td>Pirates of the Caribbean: At World's End</td>\n",
              "      <td>http://disney.go.com/disneypictures/pirates/</td>\n",
              "      <td>[Captain, Barbossa,, long, believed, to, be, d...</td>\n",
              "    </tr>\n",
              "    <tr>\n",
              "      <th>2</th>\n",
              "      <td>206647</td>\n",
              "      <td>Spectre</td>\n",
              "      <td>http://www.sonypictures.com/movies/spectre/</td>\n",
              "      <td>[A, cryptic, message, from, Bond’s, past, send...</td>\n",
              "    </tr>\n",
              "    <tr>\n",
              "      <th>3</th>\n",
              "      <td>49026</td>\n",
              "      <td>The Dark Knight Rises</td>\n",
              "      <td>http://www.thedarkknightrises.com/</td>\n",
              "      <td>[Following, the, death, of, District, Attorney...</td>\n",
              "    </tr>\n",
              "    <tr>\n",
              "      <th>4</th>\n",
              "      <td>49529</td>\n",
              "      <td>John Carter</td>\n",
              "      <td>http://movies.disney.com/john-carter</td>\n",
              "      <td>[John, Carter, is, a, war-weary,, former, mili...</td>\n",
              "    </tr>\n",
              "  </tbody>\n",
              "</table>\n",
              "</div>"
            ],
            "text/plain": [
              "       id                                     title  \\\n",
              "0   19995                                    Avatar   \n",
              "1     285  Pirates of the Caribbean: At World's End   \n",
              "2  206647                                   Spectre   \n",
              "3   49026                     The Dark Knight Rises   \n",
              "4   49529                               John Carter   \n",
              "\n",
              "                                           urls  \\\n",
              "0                   http://www.avatarmovie.com/   \n",
              "1  http://disney.go.com/disneypictures/pirates/   \n",
              "2   http://www.sonypictures.com/movies/spectre/   \n",
              "3            http://www.thedarkknightrises.com/   \n",
              "4          http://movies.disney.com/john-carter   \n",
              "\n",
              "                                            all_tags  \n",
              "0  [In, the, 22nd, century,, a, paraplegic, Marin...  \n",
              "1  [Captain, Barbossa,, long, believed, to, be, d...  \n",
              "2  [A, cryptic, message, from, Bond’s, past, send...  \n",
              "3  [Following, the, death, of, District, Attorney...  \n",
              "4  [John, Carter, is, a, war-weary,, former, mili...  "
            ]
          },
          "execution_count": 50,
          "metadata": {},
          "output_type": "execute_result"
        }
      ],
      "source": [
        "new_df.head()"
      ]
    },
    {
      "cell_type": "code",
      "execution_count": null,
      "metadata": {
        "id": "lZo_k7bTbcLs"
      },
      "outputs": [],
      "source": [
        "#converting all tags in lower case and deletion similarities"
      ]
    },
    {
      "cell_type": "code",
      "execution_count": 51,
      "metadata": {
        "id": "B5uqgWh3ctvG"
      },
      "outputs": [],
      "source": [
        "def convert_lower(text):\n",
        "  l=[]\n",
        "  for item in text:\n",
        "    l.append(item.lower())\n",
        "  return l\n",
        "    \n"
      ]
    },
    {
      "cell_type": "code",
      "execution_count": 52,
      "metadata": {
        "id": "YgXLTEyFbs2Y"
      },
      "outputs": [],
      "source": [
        "new_df['all_tags']=new_df['all_tags'].apply(convert_lower)"
      ]
    },
    {
      "cell_type": "code",
      "execution_count": 53,
      "metadata": {
        "colab": {
          "base_uri": "https://localhost:8080/",
          "height": 285
        },
        "id": "uLdQQ0puclNj",
        "outputId": "d8ae3d5f-9782-42c6-aaf7-0a3bf831b91b"
      },
      "outputs": [
        {
          "data": {
            "text/html": [
              "<div>\n",
              "<style scoped>\n",
              "    .dataframe tbody tr th:only-of-type {\n",
              "        vertical-align: middle;\n",
              "    }\n",
              "\n",
              "    .dataframe tbody tr th {\n",
              "        vertical-align: top;\n",
              "    }\n",
              "\n",
              "    .dataframe thead th {\n",
              "        text-align: right;\n",
              "    }\n",
              "</style>\n",
              "<table border=\"1\" class=\"dataframe\">\n",
              "  <thead>\n",
              "    <tr style=\"text-align: right;\">\n",
              "      <th></th>\n",
              "      <th>id</th>\n",
              "      <th>title</th>\n",
              "      <th>urls</th>\n",
              "      <th>all_tags</th>\n",
              "    </tr>\n",
              "  </thead>\n",
              "  <tbody>\n",
              "    <tr>\n",
              "      <th>0</th>\n",
              "      <td>19995</td>\n",
              "      <td>Avatar</td>\n",
              "      <td>http://www.avatarmovie.com/</td>\n",
              "      <td>[in, the, 22nd, century,, a, paraplegic, marin...</td>\n",
              "    </tr>\n",
              "    <tr>\n",
              "      <th>1</th>\n",
              "      <td>285</td>\n",
              "      <td>Pirates of the Caribbean: At World's End</td>\n",
              "      <td>http://disney.go.com/disneypictures/pirates/</td>\n",
              "      <td>[captain, barbossa,, long, believed, to, be, d...</td>\n",
              "    </tr>\n",
              "    <tr>\n",
              "      <th>2</th>\n",
              "      <td>206647</td>\n",
              "      <td>Spectre</td>\n",
              "      <td>http://www.sonypictures.com/movies/spectre/</td>\n",
              "      <td>[a, cryptic, message, from, bond’s, past, send...</td>\n",
              "    </tr>\n",
              "    <tr>\n",
              "      <th>3</th>\n",
              "      <td>49026</td>\n",
              "      <td>The Dark Knight Rises</td>\n",
              "      <td>http://www.thedarkknightrises.com/</td>\n",
              "      <td>[following, the, death, of, district, attorney...</td>\n",
              "    </tr>\n",
              "    <tr>\n",
              "      <th>4</th>\n",
              "      <td>49529</td>\n",
              "      <td>John Carter</td>\n",
              "      <td>http://movies.disney.com/john-carter</td>\n",
              "      <td>[john, carter, is, a, war-weary,, former, mili...</td>\n",
              "    </tr>\n",
              "  </tbody>\n",
              "</table>\n",
              "</div>"
            ],
            "text/plain": [
              "       id                                     title  \\\n",
              "0   19995                                    Avatar   \n",
              "1     285  Pirates of the Caribbean: At World's End   \n",
              "2  206647                                   Spectre   \n",
              "3   49026                     The Dark Knight Rises   \n",
              "4   49529                               John Carter   \n",
              "\n",
              "                                           urls  \\\n",
              "0                   http://www.avatarmovie.com/   \n",
              "1  http://disney.go.com/disneypictures/pirates/   \n",
              "2   http://www.sonypictures.com/movies/spectre/   \n",
              "3            http://www.thedarkknightrises.com/   \n",
              "4          http://movies.disney.com/john-carter   \n",
              "\n",
              "                                            all_tags  \n",
              "0  [in, the, 22nd, century,, a, paraplegic, marin...  \n",
              "1  [captain, barbossa,, long, believed, to, be, d...  \n",
              "2  [a, cryptic, message, from, bond’s, past, send...  \n",
              "3  [following, the, death, of, district, attorney...  \n",
              "4  [john, carter, is, a, war-weary,, former, mili...  "
            ]
          },
          "execution_count": 53,
          "metadata": {},
          "output_type": "execute_result"
        }
      ],
      "source": [
        "new_df.head()"
      ]
    },
    {
      "cell_type": "code",
      "execution_count": 54,
      "metadata": {
        "colab": {
          "base_uri": "https://localhost:8080/"
        },
        "id": "XCtnHA3hp-hF",
        "outputId": "2398737b-dbea-4292-bb73-b4c97047e7ca"
      },
      "outputs": [
        {
          "name": "stdout",
          "output_type": "stream",
          "text": [
            "Requirement already satisfied: nltk in c:\\users\\yogesh\\appdata\\local\\programs\\python\\python310\\lib\\site-packages (3.8.1)\n",
            "Requirement already satisfied: regex>=2021.8.3 in c:\\users\\yogesh\\appdata\\local\\programs\\python\\python310\\lib\\site-packages (from nltk) (2022.10.31)\n",
            "Requirement already satisfied: tqdm in c:\\users\\yogesh\\appdata\\local\\programs\\python\\python310\\lib\\site-packages (from nltk) (4.64.1)\n",
            "Requirement already satisfied: joblib in c:\\users\\yogesh\\appdata\\local\\programs\\python\\python310\\lib\\site-packages (from nltk) (1.2.0)\n",
            "Requirement already satisfied: click in c:\\users\\yogesh\\appdata\\local\\programs\\python\\python310\\lib\\site-packages (from nltk) (8.1.3)\n",
            "Requirement already satisfied: colorama in c:\\users\\yogesh\\appdata\\roaming\\python\\python310\\site-packages (from click->nltk) (0.4.6)\n",
            "Note: you may need to restart the kernel to use updated packages.\n"
          ]
        }
      ],
      "source": [
        "pip install nltk"
      ]
    },
    {
      "cell_type": "code",
      "execution_count": 55,
      "metadata": {
        "id": "stATb5A-dN90"
      },
      "outputs": [],
      "source": [
        "import nltk\n",
        "from nltk.stem.porter import PorterStemmer\n",
        "ps=PorterStemmer()\n",
        "def steming(text):\n",
        "  l=[]\n",
        "  for i in text:\n",
        "\n",
        "    l.append(ps.stem(i))\n",
        "  return l\n"
      ]
    },
    {
      "cell_type": "code",
      "execution_count": 56,
      "metadata": {
        "id": "6R8er2yjpFRi"
      },
      "outputs": [],
      "source": [
        "new_df['all_tags']=new_df['all_tags'].apply(steming)"
      ]
    },
    {
      "cell_type": "code",
      "execution_count": 57,
      "metadata": {
        "colab": {
          "base_uri": "https://localhost:8080/",
          "height": 206
        },
        "id": "Rvh9-gtIubCh",
        "outputId": "52834edc-b0ee-47dd-8a96-d665779bd1c2"
      },
      "outputs": [
        {
          "data": {
            "text/html": [
              "<div>\n",
              "<style scoped>\n",
              "    .dataframe tbody tr th:only-of-type {\n",
              "        vertical-align: middle;\n",
              "    }\n",
              "\n",
              "    .dataframe tbody tr th {\n",
              "        vertical-align: top;\n",
              "    }\n",
              "\n",
              "    .dataframe thead th {\n",
              "        text-align: right;\n",
              "    }\n",
              "</style>\n",
              "<table border=\"1\" class=\"dataframe\">\n",
              "  <thead>\n",
              "    <tr style=\"text-align: right;\">\n",
              "      <th></th>\n",
              "      <th>id</th>\n",
              "      <th>title</th>\n",
              "      <th>urls</th>\n",
              "      <th>all_tags</th>\n",
              "    </tr>\n",
              "  </thead>\n",
              "  <tbody>\n",
              "    <tr>\n",
              "      <th>3671</th>\n",
              "      <td>292481</td>\n",
              "      <td>Henry &amp; Me</td>\n",
              "      <td>https://www./Henry&amp;Me</td>\n",
              "      <td>[henri, &amp;amp;, me, tell, the, courag, stori, o...</td>\n",
              "    </tr>\n",
              "    <tr>\n",
              "      <th>388</th>\n",
              "      <td>161</td>\n",
              "      <td>Ocean's Eleven</td>\n",
              "      <td>http://www.warnerbros.co.uk/movies/oceans-eleven</td>\n",
              "      <td>[less, than, 24, hour, into, hi, parole,, char...</td>\n",
              "    </tr>\n",
              "    <tr>\n",
              "      <th>1183</th>\n",
              "      <td>9889</td>\n",
              "      <td>Shallow Hal</td>\n",
              "      <td>https://www./ShallowHal</td>\n",
              "      <td>[a, shallow, man, fall, in, love, with, a, 300...</td>\n",
              "    </tr>\n",
              "    <tr>\n",
              "      <th>1170</th>\n",
              "      <td>6114</td>\n",
              "      <td>Dracula</td>\n",
              "      <td>https://www./Dracula</td>\n",
              "      <td>[when, dracula, leav, the, captiv, jonathan, h...</td>\n",
              "    </tr>\n",
              "    <tr>\n",
              "      <th>759</th>\n",
              "      <td>11015</td>\n",
              "      <td>The Relic</td>\n",
              "      <td>https://www./TheRelic</td>\n",
              "      <td>[a, research, at, chicago', natur, histori, mu...</td>\n",
              "    </tr>\n",
              "  </tbody>\n",
              "</table>\n",
              "</div>"
            ],
            "text/plain": [
              "          id           title  \\\n",
              "3671  292481      Henry & Me   \n",
              "388      161  Ocean's Eleven   \n",
              "1183    9889     Shallow Hal   \n",
              "1170    6114         Dracula   \n",
              "759    11015       The Relic   \n",
              "\n",
              "                                                  urls  \\\n",
              "3671                             https://www./Henry&Me   \n",
              "388   http://www.warnerbros.co.uk/movies/oceans-eleven   \n",
              "1183                           https://www./ShallowHal   \n",
              "1170                              https://www./Dracula   \n",
              "759                              https://www./TheRelic   \n",
              "\n",
              "                                               all_tags  \n",
              "3671  [henri, &amp;, me, tell, the, courag, stori, o...  \n",
              "388   [less, than, 24, hour, into, hi, parole,, char...  \n",
              "1183  [a, shallow, man, fall, in, love, with, a, 300...  \n",
              "1170  [when, dracula, leav, the, captiv, jonathan, h...  \n",
              "759   [a, research, at, chicago', natur, histori, mu...  "
            ]
          },
          "execution_count": 57,
          "metadata": {},
          "output_type": "execute_result"
        }
      ],
      "source": [
        "new_df.sample(5)"
      ]
    },
    {
      "cell_type": "code",
      "execution_count": 58,
      "metadata": {
        "id": "Zkp9OzlUwwj7"
      },
      "outputs": [],
      "source": [
        "new_df[\"all_tags\"]=new_df[\"all_tags\"].apply(_join)"
      ]
    },
    {
      "cell_type": "code",
      "execution_count": 59,
      "metadata": {
        "id": "1rM-EYPBx05R"
      },
      "outputs": [],
      "source": [
        "new_df['all_tags'] = new_df['all_tags'].apply(lambda x: \" \".join(x))"
      ]
    },
    {
      "cell_type": "code",
      "execution_count": 60,
      "metadata": {
        "id": "SXZFFYlLdUNJ"
      },
      "outputs": [],
      "source": [
        "from sklearn.feature_extraction.text import CountVectorizer\n",
        "cv = CountVectorizer(stop_words='english')"
      ]
    },
    {
      "cell_type": "code",
      "execution_count": 61,
      "metadata": {
        "colab": {
          "base_uri": "https://localhost:8080/"
        },
        "id": "T_YLlj7TvWtc",
        "outputId": "3e1dfbda-4e99-4a68-9e7c-d64830ee3bed"
      },
      "outputs": [
        {
          "data": {
            "text/plain": [
              "array([[0, 0, 0, ..., 0, 0, 0],\n",
              "       [0, 0, 0, ..., 0, 0, 0],\n",
              "       [0, 0, 0, ..., 0, 0, 0],\n",
              "       ...,\n",
              "       [0, 0, 0, ..., 0, 0, 0],\n",
              "       [0, 0, 0, ..., 0, 0, 0],\n",
              "       [0, 0, 0, ..., 0, 0, 0]], dtype=int64)"
            ]
          },
          "execution_count": 61,
          "metadata": {},
          "output_type": "execute_result"
        }
      ],
      "source": [
        "data = cv.fit_transform(new_df['all_tags']).toarray()\n",
        "data"
      ]
    },
    {
      "cell_type": "code",
      "execution_count": 62,
      "metadata": {
        "colab": {
          "base_uri": "https://localhost:8080/"
        },
        "id": "c2q1SnKCvzcE",
        "outputId": "b81bb158-d3c6-493b-a33f-6ebd73bd9832"
      },
      "outputs": [
        {
          "data": {
            "text/plain": [
              "array([[1.        , 0.06776309, 0.06862635, ..., 0.03571429, 0.        ,\n",
              "        0.        ],\n",
              "       [0.06776309, 1.        , 0.05063697, ..., 0.01976424, 0.        ,\n",
              "        0.0209427 ],\n",
              "       [0.06862635, 0.05063697, 1.        , ..., 0.02001602, 0.        ,\n",
              "        0.        ],\n",
              "       ...,\n",
              "       [0.03571429, 0.01976424, 0.02001602, ..., 1.        , 0.03311331,\n",
              "        0.03311331],\n",
              "       [0.        , 0.        , 0.        , ..., 0.03311331, 1.        ,\n",
              "        0.07017544],\n",
              "       [0.        , 0.0209427 , 0.        , ..., 0.03311331, 0.07017544,\n",
              "        1.        ]])"
            ]
          },
          "execution_count": 62,
          "metadata": {},
          "output_type": "execute_result"
        }
      ],
      "source": [
        "from sklearn.metrics.pairwise import cosine_similarity\n",
        "similarity = cosine_similarity(data)\n",
        "similarity\n"
      ]
    },
    {
      "cell_type": "code",
      "execution_count": 63,
      "metadata": {
        "id": "7_TZG5JEvcli"
      },
      "outputs": [],
      "source": [
        "def movie_recommend(movie):\n",
        "    index = new_df[new_df['title'] == movie].index[0]\n",
        "    distances = sorted(list(enumerate(similarity[index])),reverse=True,key = lambda x: x[1])\n",
        "    for i in distances[1:8]:\n",
        "\n",
        "      \n",
        "      print(\"{} {}\".format(new_df.iloc[i[0]].title,new_df.iloc[i[0]].urls))"
      ]
    },
    {
      "cell_type": "code",
      "execution_count": 64,
      "metadata": {
        "colab": {
          "base_uri": "https://localhost:8080/"
        },
        "id": "wVnl-FpMyfQ3",
        "outputId": "c16e57fb-0966-4732-d9b6-0a62e57b63d8"
      },
      "outputs": [
        {
          "name": "stdout",
          "output_type": "stream",
          "text": [
            "Aliens https://www./Aliens\n",
            "Aliens vs Predator: Requiem http://www.avp-r.com/\n",
            "Titan A.E. https://www./TitanA.E.\n",
            "Independence Day https://www./IndependenceDay\n",
            "Battle: Los Angeles http://www.battlela.com\n",
            "Meet Dave http://www.meetdavemovie.com/\n",
            "Predators https://www./Predators\n"
          ]
        }
      ],
      "source": [
        "movie_recommend(\"Avatar\")"
      ]
    },
    {
      "cell_type": "code",
      "execution_count": 65,
      "metadata": {
        "colab": {
          "base_uri": "https://localhost:8080/"
        },
        "id": "PJ9YmkZxyodi",
        "outputId": "411341c1-09cd-4d68-cfee-0101dd94aee4"
      },
      "outputs": [
        {
          "name": "stdout",
          "output_type": "stream",
          "text": [
            "Batman https://www./Batman\n",
            "Batman & Robin https://www./Batman&Robin\n",
            "The R.M. http://www.halestormentertainment.com/p_movies_details.asp?mID=jnlppmp8\n",
            "Batman Begins http://www2.warnerbros.com/batmanbegins/index.html\n",
            "Batman Returns https://www./BatmanReturns\n",
            "The Dark Knight http://thedarkknight.warnerbros.com/dvdsite/\n",
            "The Dark Knight Rises http://www.thedarkknightrises.com/\n"
          ]
        }
      ],
      "source": [
        "movie_recommend(\"Batman\")"
      ]
    },
    {
      "cell_type": "code",
      "execution_count": 66,
      "metadata": {
        "colab": {
          "base_uri": "https://localhost:8080/"
        },
        "id": "Ufa99NFDyzWg",
        "outputId": "aa39e1e1-377f-47b6-b951-0adfb31b3cdb"
      },
      "outputs": [
        {
          "name": "stdout",
          "output_type": "stream",
          "text": [
            "Captain America: The Winter Soldier http://www.captainamericathewintersoldiermovie.com\n",
            "Bowling for Columbine http://www.bowlingforcolumbine.com/index.php\n",
            "Captain America: The First Avenger http://captainamerica.marvel.com/\n",
            "The Algerian http://thealgerianmovie.com/\n",
            "Team America: World Police http://www.teamamerica.com\n",
            "Beavis and Butt-Head Do America https://www./BeavisandButt-HeadDoAmerica\n",
            "Nothing But a Man https://www./NothingButaMan\n"
          ]
        }
      ],
      "source": [
        "movie_recommend(\"2016: Obama's America\")"
      ]
    },
    {
      "cell_type": "code",
      "execution_count": 67,
      "metadata": {
        "id": "s6zxxbyc0t6n"
      },
      "outputs": [],
      "source": [
        "import pickle"
      ]
    },
    {
      "cell_type": "code",
      "execution_count": 68,
      "metadata": {
        "id": "TEsdk8he0wTc"
      },
      "outputs": [],
      "source": [
        "pickle.dump(new_df,open(\"movie_recm.pkl\",\"wb\"))\n",
        "pickle.dump(similarity,open(\"similarity.pkl\",\"wb\"))"
      ]
    },
    {
      "cell_type": "code",
      "execution_count": 69,
      "metadata": {
        "colab": {
          "base_uri": "https://localhost:8080/"
        },
        "id": "VXa-CuiRtNxc",
        "outputId": "50f3d6ae-bb3a-4858-f5c4-cf57a48acf98"
      },
      "outputs": [
        {
          "data": {
            "text/plain": [
              "array(['Avatar', \"Pirates of the Caribbean: At World's End\", 'Spectre',\n",
              "       ..., 'Signed, Sealed, Delivered', 'Shanghai Calling',\n",
              "       'My Date with Drew'], dtype=object)"
            ]
          },
          "execution_count": 69,
          "metadata": {},
          "output_type": "execute_result"
        }
      ],
      "source": [
        "np.array(new_df[\"title\"])"
      ]
    }
  ],
  "metadata": {
    "colab": {
      "collapsed_sections": [],
      "name": "movie _recomendation.ipynb",
      "provenance": []
    },
    "kernelspec": {
      "display_name": "Python 3",
      "language": "python",
      "name": "python3"
    },
    "language_info": {
      "codemirror_mode": {
        "name": "ipython",
        "version": 3
      },
      "file_extension": ".py",
      "mimetype": "text/x-python",
      "name": "python",
      "nbconvert_exporter": "python",
      "pygments_lexer": "ipython3",
      "version": "3.10.7 (tags/v3.10.7:6cc6b13, Sep  5 2022, 14:08:36) [MSC v.1933 64 bit (AMD64)]"
    },
    "vscode": {
      "interpreter": {
        "hash": "a70fd689c8ddb5c4e09895a45fb187eb1279be2331afb35392f36e6b145ac57b"
      }
    }
  },
  "nbformat": 4,
  "nbformat_minor": 0
}
